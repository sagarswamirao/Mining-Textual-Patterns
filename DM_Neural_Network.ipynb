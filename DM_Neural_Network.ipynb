{
  "nbformat": 4,
  "nbformat_minor": 0,
  "metadata": {
    "colab": {
      "provenance": [],
      "gpuType": "T4"
    },
    "kernelspec": {
      "name": "python3",
      "display_name": "Python 3"
    },
    "language_info": {
      "name": "python"
    },
    "accelerator": "GPU"
  },
  "cells": [
    {
      "cell_type": "code",
      "execution_count": 2,
      "metadata": {
        "colab": {
          "base_uri": "https://localhost:8080/"
        },
        "id": "1wZiMbbaSqm5",
        "outputId": "00edc0f8-8c7a-4967-b463-79e8a5352767"
      },
      "outputs": [
        {
          "output_type": "stream",
          "name": "stdout",
          "text": [
            "Drive already mounted at /content/drive; to attempt to forcibly remount, call drive.mount(\"/content/drive\", force_remount=True).\n"
          ]
        }
      ],
      "source": [
        "from google.colab import drive\n",
        "drive.mount('/content/drive')"
      ]
    },
    {
      "cell_type": "code",
      "source": [
        "import numpy as np\n",
        "import pandas as pd\n",
        "from sklearn.linear_model import LogisticRegression\n",
        "import xgboost as xgb\n",
        "from xgboost import XGBClassifier\n",
        "from sklearn.feature_extraction.text import TfidfVectorizer\n",
        "from sklearn.feature_extraction.text import CountVectorizer\n",
        "from sklearn.model_selection import train_test_split\n",
        "import tensorflow\n",
        "import matplotlib.pyplot as plt\n",
        "import tensorflow as tf\n",
        "from tensorflow.keras.models import Sequential\n",
        "from tensorflow.keras.layers import Dense, LSTM, Dropout, Bidirectional, Embedding\n",
        "import pickle"
      ],
      "metadata": {
        "id": "_0InErDcTAFt"
      },
      "execution_count": 4,
      "outputs": []
    },
    {
      "cell_type": "code",
      "source": [
        "num_features = 1000\n",
        "num_classes = 2"
      ],
      "metadata": {
        "id": "cytjUh6tY_zw"
      },
      "execution_count": 5,
      "outputs": []
    },
    {
      "cell_type": "code",
      "source": [
        "projectFolderPath = \"/content/drive/MyDrive/\"\n",
        "# This is a shortcut in my Google Drive. You can implement the same in your version as well\n",
        "\n",
        "trainDataPath = projectFolderPath + \"preprocessed_train.csv\"\n",
        "testDataPath = projectFolderPath + \"preprocessed_test.csv\"\n",
        "\n",
        "trainDF = pd.read_csv(trainDataPath, on_bad_lines = 'skip')\n",
        "trainDF.head()"
      ],
      "metadata": {
        "colab": {
          "base_uri": "https://localhost:8080/",
          "height": 275
        },
        "id": "Jw-vIbmrTEgW",
        "outputId": "7addd1f2-ceeb-4343-e19d-824f826b2746"
      },
      "execution_count": 6,
      "outputs": [
        {
          "output_type": "execute_result",
          "data": {
            "text/plain": [
              "                                                text  label  \\\n",
              "0  Do you want to hear a story? So I was at work ...      0   \n",
              "1  The author does a really good job with explain...      0   \n",
              "2  I think that you guys should all become a Seag...      0   \n",
              "3  Why should the people Of the United States vot...      0   \n",
              "4  Senator, I believe that voting for the Preside...      0   \n",
              "\n",
              "                                   preprocessed_text  \n",
              "0  want hear stori  work caus scientist friend ar...  \n",
              "1  author realli good job explain great detail tz...  \n",
              "2  think guy becom seago cowboy adventur world ri...  \n",
              "3  peopl unit state vote elector vote jolt one co...  \n",
              "4  senat  believ vote presid unit state base popu...  "
            ],
            "text/html": [
              "\n",
              "  <div id=\"df-1690c0ee-a3af-45f0-9dbc-103a13b30d60\" class=\"colab-df-container\">\n",
              "    <div>\n",
              "<style scoped>\n",
              "    .dataframe tbody tr th:only-of-type {\n",
              "        vertical-align: middle;\n",
              "    }\n",
              "\n",
              "    .dataframe tbody tr th {\n",
              "        vertical-align: top;\n",
              "    }\n",
              "\n",
              "    .dataframe thead th {\n",
              "        text-align: right;\n",
              "    }\n",
              "</style>\n",
              "<table border=\"1\" class=\"dataframe\">\n",
              "  <thead>\n",
              "    <tr style=\"text-align: right;\">\n",
              "      <th></th>\n",
              "      <th>text</th>\n",
              "      <th>label</th>\n",
              "      <th>preprocessed_text</th>\n",
              "    </tr>\n",
              "  </thead>\n",
              "  <tbody>\n",
              "    <tr>\n",
              "      <th>0</th>\n",
              "      <td>Do you want to hear a story? So I was at work ...</td>\n",
              "      <td>0</td>\n",
              "      <td>want hear stori  work caus scientist friend ar...</td>\n",
              "    </tr>\n",
              "    <tr>\n",
              "      <th>1</th>\n",
              "      <td>The author does a really good job with explain...</td>\n",
              "      <td>0</td>\n",
              "      <td>author realli good job explain great detail tz...</td>\n",
              "    </tr>\n",
              "    <tr>\n",
              "      <th>2</th>\n",
              "      <td>I think that you guys should all become a Seag...</td>\n",
              "      <td>0</td>\n",
              "      <td>think guy becom seago cowboy adventur world ri...</td>\n",
              "    </tr>\n",
              "    <tr>\n",
              "      <th>3</th>\n",
              "      <td>Why should the people Of the United States vot...</td>\n",
              "      <td>0</td>\n",
              "      <td>peopl unit state vote elector vote jolt one co...</td>\n",
              "    </tr>\n",
              "    <tr>\n",
              "      <th>4</th>\n",
              "      <td>Senator, I believe that voting for the Preside...</td>\n",
              "      <td>0</td>\n",
              "      <td>senat  believ vote presid unit state base popu...</td>\n",
              "    </tr>\n",
              "  </tbody>\n",
              "</table>\n",
              "</div>\n",
              "    <div class=\"colab-df-buttons\">\n",
              "\n",
              "  <div class=\"colab-df-container\">\n",
              "    <button class=\"colab-df-convert\" onclick=\"convertToInteractive('df-1690c0ee-a3af-45f0-9dbc-103a13b30d60')\"\n",
              "            title=\"Convert this dataframe to an interactive table.\"\n",
              "            style=\"display:none;\">\n",
              "\n",
              "  <svg xmlns=\"http://www.w3.org/2000/svg\" height=\"24px\" viewBox=\"0 -960 960 960\">\n",
              "    <path d=\"M120-120v-720h720v720H120Zm60-500h600v-160H180v160Zm220 220h160v-160H400v160Zm0 220h160v-160H400v160ZM180-400h160v-160H180v160Zm440 0h160v-160H620v160ZM180-180h160v-160H180v160Zm440 0h160v-160H620v160Z\"/>\n",
              "  </svg>\n",
              "    </button>\n",
              "\n",
              "  <style>\n",
              "    .colab-df-container {\n",
              "      display:flex;\n",
              "      gap: 12px;\n",
              "    }\n",
              "\n",
              "    .colab-df-convert {\n",
              "      background-color: #E8F0FE;\n",
              "      border: none;\n",
              "      border-radius: 50%;\n",
              "      cursor: pointer;\n",
              "      display: none;\n",
              "      fill: #1967D2;\n",
              "      height: 32px;\n",
              "      padding: 0 0 0 0;\n",
              "      width: 32px;\n",
              "    }\n",
              "\n",
              "    .colab-df-convert:hover {\n",
              "      background-color: #E2EBFA;\n",
              "      box-shadow: 0px 1px 2px rgba(60, 64, 67, 0.3), 0px 1px 3px 1px rgba(60, 64, 67, 0.15);\n",
              "      fill: #174EA6;\n",
              "    }\n",
              "\n",
              "    .colab-df-buttons div {\n",
              "      margin-bottom: 4px;\n",
              "    }\n",
              "\n",
              "    [theme=dark] .colab-df-convert {\n",
              "      background-color: #3B4455;\n",
              "      fill: #D2E3FC;\n",
              "    }\n",
              "\n",
              "    [theme=dark] .colab-df-convert:hover {\n",
              "      background-color: #434B5C;\n",
              "      box-shadow: 0px 1px 3px 1px rgba(0, 0, 0, 0.15);\n",
              "      filter: drop-shadow(0px 1px 2px rgba(0, 0, 0, 0.3));\n",
              "      fill: #FFFFFF;\n",
              "    }\n",
              "  </style>\n",
              "\n",
              "    <script>\n",
              "      const buttonEl =\n",
              "        document.querySelector('#df-1690c0ee-a3af-45f0-9dbc-103a13b30d60 button.colab-df-convert');\n",
              "      buttonEl.style.display =\n",
              "        google.colab.kernel.accessAllowed ? 'block' : 'none';\n",
              "\n",
              "      async function convertToInteractive(key) {\n",
              "        const element = document.querySelector('#df-1690c0ee-a3af-45f0-9dbc-103a13b30d60');\n",
              "        const dataTable =\n",
              "          await google.colab.kernel.invokeFunction('convertToInteractive',\n",
              "                                                    [key], {});\n",
              "        if (!dataTable) return;\n",
              "\n",
              "        const docLinkHtml = 'Like what you see? Visit the ' +\n",
              "          '<a target=\"_blank\" href=https://colab.research.google.com/notebooks/data_table.ipynb>data table notebook</a>'\n",
              "          + ' to learn more about interactive tables.';\n",
              "        element.innerHTML = '';\n",
              "        dataTable['output_type'] = 'display_data';\n",
              "        await google.colab.output.renderOutput(dataTable, element);\n",
              "        const docLink = document.createElement('div');\n",
              "        docLink.innerHTML = docLinkHtml;\n",
              "        element.appendChild(docLink);\n",
              "      }\n",
              "    </script>\n",
              "  </div>\n",
              "\n",
              "\n",
              "<div id=\"df-86ce8390-6663-4e69-ae6c-3ac466fb2800\">\n",
              "  <button class=\"colab-df-quickchart\" onclick=\"quickchart('df-86ce8390-6663-4e69-ae6c-3ac466fb2800')\"\n",
              "            title=\"Suggest charts\"\n",
              "            style=\"display:none;\">\n",
              "\n",
              "<svg xmlns=\"http://www.w3.org/2000/svg\" height=\"24px\"viewBox=\"0 0 24 24\"\n",
              "     width=\"24px\">\n",
              "    <g>\n",
              "        <path d=\"M19 3H5c-1.1 0-2 .9-2 2v14c0 1.1.9 2 2 2h14c1.1 0 2-.9 2-2V5c0-1.1-.9-2-2-2zM9 17H7v-7h2v7zm4 0h-2V7h2v10zm4 0h-2v-4h2v4z\"/>\n",
              "    </g>\n",
              "</svg>\n",
              "  </button>\n",
              "\n",
              "<style>\n",
              "  .colab-df-quickchart {\n",
              "      --bg-color: #E8F0FE;\n",
              "      --fill-color: #1967D2;\n",
              "      --hover-bg-color: #E2EBFA;\n",
              "      --hover-fill-color: #174EA6;\n",
              "      --disabled-fill-color: #AAA;\n",
              "      --disabled-bg-color: #DDD;\n",
              "  }\n",
              "\n",
              "  [theme=dark] .colab-df-quickchart {\n",
              "      --bg-color: #3B4455;\n",
              "      --fill-color: #D2E3FC;\n",
              "      --hover-bg-color: #434B5C;\n",
              "      --hover-fill-color: #FFFFFF;\n",
              "      --disabled-bg-color: #3B4455;\n",
              "      --disabled-fill-color: #666;\n",
              "  }\n",
              "\n",
              "  .colab-df-quickchart {\n",
              "    background-color: var(--bg-color);\n",
              "    border: none;\n",
              "    border-radius: 50%;\n",
              "    cursor: pointer;\n",
              "    display: none;\n",
              "    fill: var(--fill-color);\n",
              "    height: 32px;\n",
              "    padding: 0;\n",
              "    width: 32px;\n",
              "  }\n",
              "\n",
              "  .colab-df-quickchart:hover {\n",
              "    background-color: var(--hover-bg-color);\n",
              "    box-shadow: 0 1px 2px rgba(60, 64, 67, 0.3), 0 1px 3px 1px rgba(60, 64, 67, 0.15);\n",
              "    fill: var(--button-hover-fill-color);\n",
              "  }\n",
              "\n",
              "  .colab-df-quickchart-complete:disabled,\n",
              "  .colab-df-quickchart-complete:disabled:hover {\n",
              "    background-color: var(--disabled-bg-color);\n",
              "    fill: var(--disabled-fill-color);\n",
              "    box-shadow: none;\n",
              "  }\n",
              "\n",
              "  .colab-df-spinner {\n",
              "    border: 2px solid var(--fill-color);\n",
              "    border-color: transparent;\n",
              "    border-bottom-color: var(--fill-color);\n",
              "    animation:\n",
              "      spin 1s steps(1) infinite;\n",
              "  }\n",
              "\n",
              "  @keyframes spin {\n",
              "    0% {\n",
              "      border-color: transparent;\n",
              "      border-bottom-color: var(--fill-color);\n",
              "      border-left-color: var(--fill-color);\n",
              "    }\n",
              "    20% {\n",
              "      border-color: transparent;\n",
              "      border-left-color: var(--fill-color);\n",
              "      border-top-color: var(--fill-color);\n",
              "    }\n",
              "    30% {\n",
              "      border-color: transparent;\n",
              "      border-left-color: var(--fill-color);\n",
              "      border-top-color: var(--fill-color);\n",
              "      border-right-color: var(--fill-color);\n",
              "    }\n",
              "    40% {\n",
              "      border-color: transparent;\n",
              "      border-right-color: var(--fill-color);\n",
              "      border-top-color: var(--fill-color);\n",
              "    }\n",
              "    60% {\n",
              "      border-color: transparent;\n",
              "      border-right-color: var(--fill-color);\n",
              "    }\n",
              "    80% {\n",
              "      border-color: transparent;\n",
              "      border-right-color: var(--fill-color);\n",
              "      border-bottom-color: var(--fill-color);\n",
              "    }\n",
              "    90% {\n",
              "      border-color: transparent;\n",
              "      border-bottom-color: var(--fill-color);\n",
              "    }\n",
              "  }\n",
              "</style>\n",
              "\n",
              "  <script>\n",
              "    async function quickchart(key) {\n",
              "      const quickchartButtonEl =\n",
              "        document.querySelector('#' + key + ' button');\n",
              "      quickchartButtonEl.disabled = true;  // To prevent multiple clicks.\n",
              "      quickchartButtonEl.classList.add('colab-df-spinner');\n",
              "      try {\n",
              "        const charts = await google.colab.kernel.invokeFunction(\n",
              "            'suggestCharts', [key], {});\n",
              "      } catch (error) {\n",
              "        console.error('Error during call to suggestCharts:', error);\n",
              "      }\n",
              "      quickchartButtonEl.classList.remove('colab-df-spinner');\n",
              "      quickchartButtonEl.classList.add('colab-df-quickchart-complete');\n",
              "    }\n",
              "    (() => {\n",
              "      let quickchartButtonEl =\n",
              "        document.querySelector('#df-86ce8390-6663-4e69-ae6c-3ac466fb2800 button');\n",
              "      quickchartButtonEl.style.display =\n",
              "        google.colab.kernel.accessAllowed ? 'block' : 'none';\n",
              "    })();\n",
              "  </script>\n",
              "</div>\n",
              "\n",
              "    </div>\n",
              "  </div>\n"
            ],
            "application/vnd.google.colaboratory.intrinsic+json": {
              "type": "dataframe",
              "variable_name": "trainDF"
            }
          },
          "metadata": {},
          "execution_count": 6
        }
      ]
    },
    {
      "cell_type": "code",
      "source": [
        "testDF = pd.read_csv(testDataPath, on_bad_lines = 'skip')\n",
        "testDF.head()"
      ],
      "metadata": {
        "colab": {
          "base_uri": "https://localhost:8080/",
          "height": 292
        },
        "id": "O4PECFxwTMeK",
        "outputId": "aa7ac32f-533e-469f-cb92-e5a092e6ec3c"
      },
      "execution_count": 7,
      "outputs": [
        {
          "output_type": "execute_result",
          "data": {
            "text/plain": [
              "                                                text  label  \\\n",
              "0  The Face on Mars is nothing but a natural occu...      0   \n",
              "1  Students have a higher chance of catching a vi...      0   \n",
              "2  Driverless cars have good and bad things that ...      0   \n",
              "3  Some people might think that traveling in a gr...      1   \n",
              "4  How many of us students want to be forced to d...      0   \n",
              "\n",
              "                                   preprocessed_text  \n",
              "0  face mar noth natur occurr  mar  thing call ba...  \n",
              "1  student higher chanc catch viru school hour  v...  \n",
              "2  driverless car good bad thing would go along  ...  \n",
              "3  peopl might think travel group led tour guid g...  \n",
              "4  mani us student want forc someth  probabl mani...  "
            ],
            "text/html": [
              "\n",
              "  <div id=\"df-b2f0496f-7b59-4fbf-9b31-626baf7de16e\" class=\"colab-df-container\">\n",
              "    <div>\n",
              "<style scoped>\n",
              "    .dataframe tbody tr th:only-of-type {\n",
              "        vertical-align: middle;\n",
              "    }\n",
              "\n",
              "    .dataframe tbody tr th {\n",
              "        vertical-align: top;\n",
              "    }\n",
              "\n",
              "    .dataframe thead th {\n",
              "        text-align: right;\n",
              "    }\n",
              "</style>\n",
              "<table border=\"1\" class=\"dataframe\">\n",
              "  <thead>\n",
              "    <tr style=\"text-align: right;\">\n",
              "      <th></th>\n",
              "      <th>text</th>\n",
              "      <th>label</th>\n",
              "      <th>preprocessed_text</th>\n",
              "    </tr>\n",
              "  </thead>\n",
              "  <tbody>\n",
              "    <tr>\n",
              "      <th>0</th>\n",
              "      <td>The Face on Mars is nothing but a natural occu...</td>\n",
              "      <td>0</td>\n",
              "      <td>face mar noth natur occurr  mar  thing call ba...</td>\n",
              "    </tr>\n",
              "    <tr>\n",
              "      <th>1</th>\n",
              "      <td>Students have a higher chance of catching a vi...</td>\n",
              "      <td>0</td>\n",
              "      <td>student higher chanc catch viru school hour  v...</td>\n",
              "    </tr>\n",
              "    <tr>\n",
              "      <th>2</th>\n",
              "      <td>Driverless cars have good and bad things that ...</td>\n",
              "      <td>0</td>\n",
              "      <td>driverless car good bad thing would go along  ...</td>\n",
              "    </tr>\n",
              "    <tr>\n",
              "      <th>3</th>\n",
              "      <td>Some people might think that traveling in a gr...</td>\n",
              "      <td>1</td>\n",
              "      <td>peopl might think travel group led tour guid g...</td>\n",
              "    </tr>\n",
              "    <tr>\n",
              "      <th>4</th>\n",
              "      <td>How many of us students want to be forced to d...</td>\n",
              "      <td>0</td>\n",
              "      <td>mani us student want forc someth  probabl mani...</td>\n",
              "    </tr>\n",
              "  </tbody>\n",
              "</table>\n",
              "</div>\n",
              "    <div class=\"colab-df-buttons\">\n",
              "\n",
              "  <div class=\"colab-df-container\">\n",
              "    <button class=\"colab-df-convert\" onclick=\"convertToInteractive('df-b2f0496f-7b59-4fbf-9b31-626baf7de16e')\"\n",
              "            title=\"Convert this dataframe to an interactive table.\"\n",
              "            style=\"display:none;\">\n",
              "\n",
              "  <svg xmlns=\"http://www.w3.org/2000/svg\" height=\"24px\" viewBox=\"0 -960 960 960\">\n",
              "    <path d=\"M120-120v-720h720v720H120Zm60-500h600v-160H180v160Zm220 220h160v-160H400v160Zm0 220h160v-160H400v160ZM180-400h160v-160H180v160Zm440 0h160v-160H620v160ZM180-180h160v-160H180v160Zm440 0h160v-160H620v160Z\"/>\n",
              "  </svg>\n",
              "    </button>\n",
              "\n",
              "  <style>\n",
              "    .colab-df-container {\n",
              "      display:flex;\n",
              "      gap: 12px;\n",
              "    }\n",
              "\n",
              "    .colab-df-convert {\n",
              "      background-color: #E8F0FE;\n",
              "      border: none;\n",
              "      border-radius: 50%;\n",
              "      cursor: pointer;\n",
              "      display: none;\n",
              "      fill: #1967D2;\n",
              "      height: 32px;\n",
              "      padding: 0 0 0 0;\n",
              "      width: 32px;\n",
              "    }\n",
              "\n",
              "    .colab-df-convert:hover {\n",
              "      background-color: #E2EBFA;\n",
              "      box-shadow: 0px 1px 2px rgba(60, 64, 67, 0.3), 0px 1px 3px 1px rgba(60, 64, 67, 0.15);\n",
              "      fill: #174EA6;\n",
              "    }\n",
              "\n",
              "    .colab-df-buttons div {\n",
              "      margin-bottom: 4px;\n",
              "    }\n",
              "\n",
              "    [theme=dark] .colab-df-convert {\n",
              "      background-color: #3B4455;\n",
              "      fill: #D2E3FC;\n",
              "    }\n",
              "\n",
              "    [theme=dark] .colab-df-convert:hover {\n",
              "      background-color: #434B5C;\n",
              "      box-shadow: 0px 1px 3px 1px rgba(0, 0, 0, 0.15);\n",
              "      filter: drop-shadow(0px 1px 2px rgba(0, 0, 0, 0.3));\n",
              "      fill: #FFFFFF;\n",
              "    }\n",
              "  </style>\n",
              "\n",
              "    <script>\n",
              "      const buttonEl =\n",
              "        document.querySelector('#df-b2f0496f-7b59-4fbf-9b31-626baf7de16e button.colab-df-convert');\n",
              "      buttonEl.style.display =\n",
              "        google.colab.kernel.accessAllowed ? 'block' : 'none';\n",
              "\n",
              "      async function convertToInteractive(key) {\n",
              "        const element = document.querySelector('#df-b2f0496f-7b59-4fbf-9b31-626baf7de16e');\n",
              "        const dataTable =\n",
              "          await google.colab.kernel.invokeFunction('convertToInteractive',\n",
              "                                                    [key], {});\n",
              "        if (!dataTable) return;\n",
              "\n",
              "        const docLinkHtml = 'Like what you see? Visit the ' +\n",
              "          '<a target=\"_blank\" href=https://colab.research.google.com/notebooks/data_table.ipynb>data table notebook</a>'\n",
              "          + ' to learn more about interactive tables.';\n",
              "        element.innerHTML = '';\n",
              "        dataTable['output_type'] = 'display_data';\n",
              "        await google.colab.output.renderOutput(dataTable, element);\n",
              "        const docLink = document.createElement('div');\n",
              "        docLink.innerHTML = docLinkHtml;\n",
              "        element.appendChild(docLink);\n",
              "      }\n",
              "    </script>\n",
              "  </div>\n",
              "\n",
              "\n",
              "<div id=\"df-3960d922-f716-42d6-b4d6-9383995e7b21\">\n",
              "  <button class=\"colab-df-quickchart\" onclick=\"quickchart('df-3960d922-f716-42d6-b4d6-9383995e7b21')\"\n",
              "            title=\"Suggest charts\"\n",
              "            style=\"display:none;\">\n",
              "\n",
              "<svg xmlns=\"http://www.w3.org/2000/svg\" height=\"24px\"viewBox=\"0 0 24 24\"\n",
              "     width=\"24px\">\n",
              "    <g>\n",
              "        <path d=\"M19 3H5c-1.1 0-2 .9-2 2v14c0 1.1.9 2 2 2h14c1.1 0 2-.9 2-2V5c0-1.1-.9-2-2-2zM9 17H7v-7h2v7zm4 0h-2V7h2v10zm4 0h-2v-4h2v4z\"/>\n",
              "    </g>\n",
              "</svg>\n",
              "  </button>\n",
              "\n",
              "<style>\n",
              "  .colab-df-quickchart {\n",
              "      --bg-color: #E8F0FE;\n",
              "      --fill-color: #1967D2;\n",
              "      --hover-bg-color: #E2EBFA;\n",
              "      --hover-fill-color: #174EA6;\n",
              "      --disabled-fill-color: #AAA;\n",
              "      --disabled-bg-color: #DDD;\n",
              "  }\n",
              "\n",
              "  [theme=dark] .colab-df-quickchart {\n",
              "      --bg-color: #3B4455;\n",
              "      --fill-color: #D2E3FC;\n",
              "      --hover-bg-color: #434B5C;\n",
              "      --hover-fill-color: #FFFFFF;\n",
              "      --disabled-bg-color: #3B4455;\n",
              "      --disabled-fill-color: #666;\n",
              "  }\n",
              "\n",
              "  .colab-df-quickchart {\n",
              "    background-color: var(--bg-color);\n",
              "    border: none;\n",
              "    border-radius: 50%;\n",
              "    cursor: pointer;\n",
              "    display: none;\n",
              "    fill: var(--fill-color);\n",
              "    height: 32px;\n",
              "    padding: 0;\n",
              "    width: 32px;\n",
              "  }\n",
              "\n",
              "  .colab-df-quickchart:hover {\n",
              "    background-color: var(--hover-bg-color);\n",
              "    box-shadow: 0 1px 2px rgba(60, 64, 67, 0.3), 0 1px 3px 1px rgba(60, 64, 67, 0.15);\n",
              "    fill: var(--button-hover-fill-color);\n",
              "  }\n",
              "\n",
              "  .colab-df-quickchart-complete:disabled,\n",
              "  .colab-df-quickchart-complete:disabled:hover {\n",
              "    background-color: var(--disabled-bg-color);\n",
              "    fill: var(--disabled-fill-color);\n",
              "    box-shadow: none;\n",
              "  }\n",
              "\n",
              "  .colab-df-spinner {\n",
              "    border: 2px solid var(--fill-color);\n",
              "    border-color: transparent;\n",
              "    border-bottom-color: var(--fill-color);\n",
              "    animation:\n",
              "      spin 1s steps(1) infinite;\n",
              "  }\n",
              "\n",
              "  @keyframes spin {\n",
              "    0% {\n",
              "      border-color: transparent;\n",
              "      border-bottom-color: var(--fill-color);\n",
              "      border-left-color: var(--fill-color);\n",
              "    }\n",
              "    20% {\n",
              "      border-color: transparent;\n",
              "      border-left-color: var(--fill-color);\n",
              "      border-top-color: var(--fill-color);\n",
              "    }\n",
              "    30% {\n",
              "      border-color: transparent;\n",
              "      border-left-color: var(--fill-color);\n",
              "      border-top-color: var(--fill-color);\n",
              "      border-right-color: var(--fill-color);\n",
              "    }\n",
              "    40% {\n",
              "      border-color: transparent;\n",
              "      border-right-color: var(--fill-color);\n",
              "      border-top-color: var(--fill-color);\n",
              "    }\n",
              "    60% {\n",
              "      border-color: transparent;\n",
              "      border-right-color: var(--fill-color);\n",
              "    }\n",
              "    80% {\n",
              "      border-color: transparent;\n",
              "      border-right-color: var(--fill-color);\n",
              "      border-bottom-color: var(--fill-color);\n",
              "    }\n",
              "    90% {\n",
              "      border-color: transparent;\n",
              "      border-bottom-color: var(--fill-color);\n",
              "    }\n",
              "  }\n",
              "</style>\n",
              "\n",
              "  <script>\n",
              "    async function quickchart(key) {\n",
              "      const quickchartButtonEl =\n",
              "        document.querySelector('#' + key + ' button');\n",
              "      quickchartButtonEl.disabled = true;  // To prevent multiple clicks.\n",
              "      quickchartButtonEl.classList.add('colab-df-spinner');\n",
              "      try {\n",
              "        const charts = await google.colab.kernel.invokeFunction(\n",
              "            'suggestCharts', [key], {});\n",
              "      } catch (error) {\n",
              "        console.error('Error during call to suggestCharts:', error);\n",
              "      }\n",
              "      quickchartButtonEl.classList.remove('colab-df-spinner');\n",
              "      quickchartButtonEl.classList.add('colab-df-quickchart-complete');\n",
              "    }\n",
              "    (() => {\n",
              "      let quickchartButtonEl =\n",
              "        document.querySelector('#df-3960d922-f716-42d6-b4d6-9383995e7b21 button');\n",
              "      quickchartButtonEl.style.display =\n",
              "        google.colab.kernel.accessAllowed ? 'block' : 'none';\n",
              "    })();\n",
              "  </script>\n",
              "</div>\n",
              "\n",
              "    </div>\n",
              "  </div>\n"
            ],
            "application/vnd.google.colaboratory.intrinsic+json": {
              "type": "dataframe",
              "variable_name": "testDF",
              "summary": "{\n  \"name\": \"testDF\",\n  \"rows\": 86587,\n  \"fields\": [\n    {\n      \"column\": \"text\",\n      \"properties\": {\n        \"dtype\": \"string\",\n        \"num_unique_values\": 86587,\n        \"samples\": [\n          \"I think that animals should not be used in scientific research at all. It is wrong to use them for our benefit, especially when it harms them physically and mentally. We should respect animals and treat them with kindness.\\n\\nOne of the main reasons' who I believe animals should not be used in scientific research is because it is cruel. For instance, animals are often forced to eat or inhale chemicals, which can make them sick or even kill them. Moreover, the fare often kept in tin cages for long periods of time, which can cause them to become depressed or anxious.\\n\\nAnimals also have rights, and we have a moral responsibility to protect them from harm. It is unfair to use them for our benefit without consent. The cannot speak up for themselves, so it is up to us to be their advocates.\\n\\nFinally, there are alternative methods to animal testing that can be used. For example, computer modeling and invited testing can provide accurate results without the use of animals. These methods are more humane and can also save money.\\n\\nIn conclusion, we should not use animals in scientific research because it is cruel and violates their rights. Instead, we should use alternative methods that are more ethical and respectful towards animals.\",\n          \"Focus On The ROAS\\n\\nDo you think you should be on your Service while Driving a vehicle? It's very Dangerous ans most people Don't even think about it. Most people get Distracted because of social media or to even text a friend. Electronic Services today are a big Distraction in today's works causing lack of communication, lack of exercising ans a lot of problems. Teenagers have the most accidents while Driving because they're either on the phone or talking to someone. You should use the phone when you arrive at your Destination. Until then focus on the ROAS.\\n\\nWhile being on the ROAS you should be able to focus on your location ans other cars around you. You shouldn't let anything Distract you from taking your eyes off the ROAS. Traffic goes on a lot ans you shouldn't worry about picking up a phone. Texting on the phone while Driving can cause you to react more slowly than you expect. Some people may think there are professionals at multitasking, but it's wrong. Try to avoid Distractions so you can be safe.\\n\\nIt is beys to use your phone while Driving because it is Dangerous. In addition to voice calling, activities such as texting while Driving, web browsing, playing videos, or phone use in general can also increase the risk of a crash. Crashes are increasing every year because of Distracted Driving. Distracted Driving is one of the biggest ans most common reasons. It's causes by any activity that takes your attention off the ROAS. The only time you should use your phone is when you need help to go somewhere. If you need help to get around you can use your GPS on your phone. Before you get in the car you should set up your GPS ans put it in a spot you can keep glazing at. You should also use a Bluetooth Service to help you communicate. Also, if something happens to your pull over ans call Someone.\\n\\nDrivers should not be able to use cell phones in any capacity while operating a vehicle. It's best to stay safe at all times while Driving. Focus on the ROAS until you reach your Destination ans always avoid Distractions. Without cell phone Distractions the rate of car crashes will Decrease. So you think you should be on your Service while Driving?  \",\n          \"Taking online or watching video conferencing classes has a number of pros and cons that must be considered. One of the greatest advantages of online and video conferencing classes is convenience; students can access and participate from anywhere, anytime on their own schedule. Additionally, with video conferencing, students can better understand facial expressions and body language that they might miss in an online course.\\n\\nA potential downside to both online and video conferencing classes is the lack of student engagement. It can be harder to stay focused and engaged in an online or video conferencing environment due to a lack of physical presence and interaction with peers and instructors. Another potential disadvantage is difficulty understanding complex topics. In video conferencing, the instructor might not be able to physically demonstrate something, which can make it harder to understand the topic.\\n\\nIn conclusion, online and video conferencing classes offer a unique set of benefits and drawbacks. Nltimately, the advantages and disadvantages should be weighed carefully in order to choose the best learning method for an individual student.\"\n        ],\n        \"semantic_type\": \"\",\n        \"description\": \"\"\n      }\n    },\n    {\n      \"column\": \"label\",\n      \"properties\": {\n        \"dtype\": \"number\",\n        \"std\": 0,\n        \"min\": 0,\n        \"max\": 1,\n        \"num_unique_values\": 2,\n        \"samples\": [\n          1,\n          0\n        ],\n        \"semantic_type\": \"\",\n        \"description\": \"\"\n      }\n    },\n    {\n      \"column\": \"preprocessed_text\",\n      \"properties\": {\n        \"dtype\": \"string\",\n        \"num_unique_values\": 81454,\n        \"samples\": [\n          \"know peopl stay troubl  greater chang succeed life  citi council take step forward adopt curfew law  would keep teenag troubl  mani teenag follow law  break law  curfew law go help mani way  teenag stay late social friend  mani time late school next morn  benefit law would  keep teenag safe troubl  curfew adopt  go keep teenag street late night  friend sometim go 7eleven late night weekday around 1030 p law order right  would break law  weekend teenag might want stay longer friend  social  make new friend  build good friendship  law law  still street 12 would break law go troubl  curfew law set boundari teenag alway come home late night  law might cut bit freedom  good  mom alway tell home 900 p weekday  alway hour late  curfew law order  mom know home 10 p  like break law  better safe troubl get troubl break law  mani peopl would disagre curfew law teenag work transport  walk work home hour  therefor parent job make sure kid make home safe  parent  never want see child danger troubl street  citi council adopt law order  teenag street late night home safe famili \",\n          \"think luke right thing say ye lifetim opportun  peopl could particip seago cowboy program nt like luke could nt say know lifetim opportun  luke point view concis other come would would lot fun would lot fun get mani peopl talk peopl  even make new friend  thing probabl make new friend talk peopl fun thank got  even bring famili member  go lone come enjoy self happi make new friend must self  alway tri someth new rather like nt like realli  come everyth  okay rule told listen  furthermor  also grate got invit come luke want come br grace rather got go  think luke point view convinc peopl come \"\n        ],\n        \"semantic_type\": \"\",\n        \"description\": \"\"\n      }\n    }\n  ]\n}"
            }
          },
          "metadata": {},
          "execution_count": 7
        }
      ]
    },
    {
      "cell_type": "code",
      "source": [
        "# Initialize CountVectorizer\n",
        "count_vectorizer = CountVectorizer(max_features=num_features)\n",
        "\n",
        "preprocessed_text_list = list(trainDF['preprocessed_text'])\n",
        "labelList = list(trainDF['label'])\n",
        "npNanRows = list()\n",
        "for i in range(len(preprocessed_text_list)):\n",
        "  if preprocessed_text_list[i] is np.nan:\n",
        "    npNanRows.append(i)\n",
        "\n",
        "newPreProcessedText = list()\n",
        "newLabels = list()\n",
        "\n",
        "for i in range(len(preprocessed_text_list)):\n",
        "  if not i in npNanRows:\n",
        "    newPreProcessedText.append(preprocessed_text_list[i])\n",
        "    newLabels.append(labelList[i])\n",
        "\n",
        "trainDF = pd.DataFrame()\n",
        "trainDF['preprocessed_text'] = newPreProcessedText\n",
        "trainDF['label'] = newLabels\n",
        "\n",
        "print(trainDF.head())\n",
        "\n",
        "# Fit and transform the preprocessed text data\n",
        "X_train_bow = count_vectorizer.fit_transform(trainDF['preprocessed_text'])\n",
        "X_test_bow = count_vectorizer.transform(testDF['preprocessed_text'])"
      ],
      "metadata": {
        "colab": {
          "base_uri": "https://localhost:8080/"
        },
        "id": "LA2hnThOTPY8",
        "outputId": "45a40410-31f5-449a-9f67-7ac12f9613b7"
      },
      "execution_count": 8,
      "outputs": [
        {
          "output_type": "stream",
          "name": "stdout",
          "text": [
            "                                   preprocessed_text  label\n",
            "0  want hear stori  work caus scientist friend ar...      0\n",
            "1  author realli good job explain great detail tz...      0\n",
            "2  think guy becom seago cowboy adventur world ri...      0\n",
            "3  peopl unit state vote elector vote jolt one co...      0\n",
            "4  senat  believ vote presid unit state base popu...      0\n"
          ]
        }
      ]
    },
    {
      "cell_type": "code",
      "source": [
        "# Initialize CountVectorizer\n",
        "\n",
        "count_vectorizer = CountVectorizer(max_features=num_features)\n",
        "\n",
        "# Fit and transform the preprocessed text data\n",
        "X_train_cv = count_vectorizer.fit_transform(trainDF['preprocessed_text'])\n",
        "X_test_cv = count_vectorizer.transform(testDF['preprocessed_text'])"
      ],
      "metadata": {
        "id": "j7j6PG17Tjom"
      },
      "execution_count": 9,
      "outputs": []
    },
    {
      "cell_type": "code",
      "source": [
        "# Initialize TfidfVectorizer\n",
        "tfidf_vectorizer = TfidfVectorizer(max_features=num_features)\n",
        "\n",
        "# Fit and transform the preprocessed text data\n",
        "X_train_tfidf = tfidf_vectorizer.fit_transform(trainDF['preprocessed_text'])\n",
        "X_test_tfidf = tfidf_vectorizer.transform(testDF['preprocessed_text'])"
      ],
      "metadata": {
        "id": "16JJT_ZUTlcg"
      },
      "execution_count": 10,
      "outputs": []
    },
    {
      "cell_type": "code",
      "source": [
        "y_train = trainDF[\"label\"]\n",
        "y_test = testDF[\"label\"]"
      ],
      "metadata": {
        "id": "AfhIz887TmlA"
      },
      "execution_count": 11,
      "outputs": []
    },
    {
      "cell_type": "code",
      "source": [
        "x_tfidf_halved, x_tfidf_removed, y_tfidf_halved, y_tfidf_removed = train_test_split(X_train_tfidf, y_train, test_size=0.5, random_state=42)"
      ],
      "metadata": {
        "id": "n6TRDj5ALMKA"
      },
      "execution_count": 12,
      "outputs": []
    },
    {
      "cell_type": "code",
      "source": [
        "x_cv_halved, x_cv_removed, y_cv_halved, y_cv_removed = train_test_split(X_train_cv, y_train, test_size=0.5, random_state=42)"
      ],
      "metadata": {
        "id": "sk5adZa19IHT"
      },
      "execution_count": 13,
      "outputs": []
    },
    {
      "cell_type": "code",
      "source": [
        "def create_model():\n",
        "  model = Sequential([\n",
        "      Dense(128, activation='relu', input_shape=(num_features,)),\n",
        "      Dropout(0.5),\n",
        "      Dense(64, activation='relu'),\n",
        "      Dropout(0.5),\n",
        "      Dense(64, activation='relu'),\n",
        "      Dropout(0.5),\n",
        "      Dense(num_classes, activation='softmax')\n",
        "  ])\n",
        "\n",
        "  return model"
      ],
      "metadata": {
        "id": "qdtyixxRV6-d"
      },
      "execution_count": 14,
      "outputs": []
    },
    {
      "cell_type": "code",
      "source": [
        "x_tfidf_train, x_tfidf_val, y_tfidf_train, y_tfidf_val = train_test_split(x_tfidf_halved, y_tfidf_halved, test_size=0.2, random_state=42)\n",
        "x_tfidf_train = x_tfidf_train.toarray()\n",
        "x_tfidf_val = x_tfidf_val.toarray()\n",
        "y_tfidf_train = tf.keras.utils.to_categorical(y_tfidf_train, 2)\n",
        "y_tfidf_val = tf.keras.utils.to_categorical(y_tfidf_val, 2)"
      ],
      "metadata": {
        "id": "gaRpxEdQ8E1J"
      },
      "execution_count": 15,
      "outputs": []
    },
    {
      "cell_type": "code",
      "source": [
        "# Compile the model\n",
        "model_tfidf = create_model()\n",
        "model_tfidf.compile(optimizer='adam', loss='categorical_crossentropy', metrics=['accuracy'])\n",
        "model_tfidf.summary()"
      ],
      "metadata": {
        "id": "jZ8MiSaR8diU",
        "colab": {
          "base_uri": "https://localhost:8080/"
        },
        "outputId": "06f66dad-ed53-4a8a-d59e-a254afa8d4ce"
      },
      "execution_count": 16,
      "outputs": [
        {
          "output_type": "stream",
          "name": "stdout",
          "text": [
            "Model: \"sequential\"\n",
            "_________________________________________________________________\n",
            " Layer (type)                Output Shape              Param #   \n",
            "=================================================================\n",
            " dense (Dense)               (None, 128)               128128    \n",
            "                                                                 \n",
            " dropout (Dropout)           (None, 128)               0         \n",
            "                                                                 \n",
            " dense_1 (Dense)             (None, 64)                8256      \n",
            "                                                                 \n",
            " dropout_1 (Dropout)         (None, 64)                0         \n",
            "                                                                 \n",
            " dense_2 (Dense)             (None, 64)                4160      \n",
            "                                                                 \n",
            " dropout_2 (Dropout)         (None, 64)                0         \n",
            "                                                                 \n",
            " dense_3 (Dense)             (None, 2)                 130       \n",
            "                                                                 \n",
            "=================================================================\n",
            "Total params: 140674 (549.51 KB)\n",
            "Trainable params: 140674 (549.51 KB)\n",
            "Non-trainable params: 0 (0.00 Byte)\n",
            "_________________________________________________________________\n"
          ]
        }
      ]
    },
    {
      "cell_type": "code",
      "source": [
        "# Train the model\n",
        "history_tfidf = model_tfidf.fit(x_tfidf_train, y_tfidf_train, batch_size=128, epochs=20, validation_data=(x_tfidf_val, y_tfidf_val))"
      ],
      "metadata": {
        "colab": {
          "base_uri": "https://localhost:8080/"
        },
        "id": "Xmabgept8fn6",
        "outputId": "3c1f3909-6fbf-4286-f263-e175714a47ac"
      },
      "execution_count": 17,
      "outputs": [
        {
          "output_type": "stream",
          "name": "stdout",
          "text": [
            "Epoch 1/20\n",
            "781/781 [==============================] - 9s 7ms/step - loss: 0.1070 - accuracy: 0.9585 - val_loss: 0.0304 - val_accuracy: 0.9898\n",
            "Epoch 2/20\n",
            "781/781 [==============================] - 3s 4ms/step - loss: 0.0327 - accuracy: 0.9895 - val_loss: 0.0198 - val_accuracy: 0.9942\n",
            "Epoch 3/20\n",
            "781/781 [==============================] - 4s 5ms/step - loss: 0.0187 - accuracy: 0.9940 - val_loss: 0.0143 - val_accuracy: 0.9959\n",
            "Epoch 4/20\n",
            "781/781 [==============================] - 4s 5ms/step - loss: 0.0146 - accuracy: 0.9953 - val_loss: 0.0150 - val_accuracy: 0.9958\n",
            "Epoch 5/20\n",
            "781/781 [==============================] - 4s 6ms/step - loss: 0.0113 - accuracy: 0.9966 - val_loss: 0.0111 - val_accuracy: 0.9973\n",
            "Epoch 6/20\n",
            "781/781 [==============================] - 4s 5ms/step - loss: 0.0091 - accuracy: 0.9972 - val_loss: 0.0123 - val_accuracy: 0.9972\n",
            "Epoch 7/20\n",
            "781/781 [==============================] - 3s 4ms/step - loss: 0.0083 - accuracy: 0.9973 - val_loss: 0.0107 - val_accuracy: 0.9973\n",
            "Epoch 8/20\n",
            "781/781 [==============================] - 4s 6ms/step - loss: 0.0069 - accuracy: 0.9980 - val_loss: 0.0102 - val_accuracy: 0.9975\n",
            "Epoch 9/20\n",
            "781/781 [==============================] - 4s 5ms/step - loss: 0.0058 - accuracy: 0.9981 - val_loss: 0.0109 - val_accuracy: 0.9977\n",
            "Epoch 10/20\n",
            "781/781 [==============================] - 4s 5ms/step - loss: 0.0057 - accuracy: 0.9982 - val_loss: 0.0121 - val_accuracy: 0.9977\n",
            "Epoch 11/20\n",
            "781/781 [==============================] - 4s 5ms/step - loss: 0.0060 - accuracy: 0.9979 - val_loss: 0.0122 - val_accuracy: 0.9976\n",
            "Epoch 12/20\n",
            "781/781 [==============================] - 5s 6ms/step - loss: 0.0053 - accuracy: 0.9982 - val_loss: 0.0120 - val_accuracy: 0.9978\n",
            "Epoch 13/20\n",
            "781/781 [==============================] - 3s 4ms/step - loss: 0.0053 - accuracy: 0.9985 - val_loss: 0.0108 - val_accuracy: 0.9978\n",
            "Epoch 14/20\n",
            "781/781 [==============================] - 3s 4ms/step - loss: 0.0045 - accuracy: 0.9984 - val_loss: 0.0119 - val_accuracy: 0.9980\n",
            "Epoch 15/20\n",
            "781/781 [==============================] - 5s 6ms/step - loss: 0.0044 - accuracy: 0.9986 - val_loss: 0.0129 - val_accuracy: 0.9977\n",
            "Epoch 16/20\n",
            "781/781 [==============================] - 4s 5ms/step - loss: 0.0040 - accuracy: 0.9986 - val_loss: 0.0142 - val_accuracy: 0.9980\n",
            "Epoch 17/20\n",
            "781/781 [==============================] - 4s 5ms/step - loss: 0.0040 - accuracy: 0.9988 - val_loss: 0.0143 - val_accuracy: 0.9977\n",
            "Epoch 18/20\n",
            "781/781 [==============================] - 4s 5ms/step - loss: 0.0041 - accuracy: 0.9986 - val_loss: 0.0124 - val_accuracy: 0.9977\n",
            "Epoch 19/20\n",
            "781/781 [==============================] - 5s 6ms/step - loss: 0.0030 - accuracy: 0.9990 - val_loss: 0.0130 - val_accuracy: 0.9978\n",
            "Epoch 20/20\n",
            "781/781 [==============================] - 3s 4ms/step - loss: 0.0030 - accuracy: 0.9991 - val_loss: 0.0146 - val_accuracy: 0.9978\n"
          ]
        }
      ]
    },
    {
      "cell_type": "code",
      "source": [
        "X_test_tfidf = X_test_tfidf.toarray()\n",
        "actual_classes = y_test\n",
        "y_test = tf.keras.utils.to_categorical(y_test, 2)"
      ],
      "metadata": {
        "id": "zymyZ2CC8qVr"
      },
      "execution_count": 18,
      "outputs": []
    },
    {
      "cell_type": "code",
      "source": [
        "predictions_tfidf = model_tfidf.predict(X_test_tfidf)"
      ],
      "metadata": {
        "colab": {
          "base_uri": "https://localhost:8080/"
        },
        "id": "rwWkIHKrSXNA",
        "outputId": "17f681f0-3423-41ab-b516-13c85e38df0e"
      },
      "execution_count": 19,
      "outputs": [
        {
          "output_type": "stream",
          "name": "stdout",
          "text": [
            "2706/2706 [==============================] - 5s 2ms/step\n"
          ]
        }
      ]
    },
    {
      "cell_type": "code",
      "source": [
        "predicted_classes_tfidf = np.argmax(predictions_tfidf, axis=1)"
      ],
      "metadata": {
        "id": "jjhjFHjyTCTl"
      },
      "execution_count": 20,
      "outputs": []
    },
    {
      "cell_type": "code",
      "source": [
        "accuracy_tfidf = np.mean(actual_classes == predicted_classes_tfidf)\n",
        "accuracy_tfidf"
      ],
      "metadata": {
        "colab": {
          "base_uri": "https://localhost:8080/"
        },
        "id": "05hmiB3sV1Cn",
        "outputId": "ac22ddb0-115d-4a8a-bf2a-5a09fd75505b"
      },
      "execution_count": 21,
      "outputs": [
        {
          "output_type": "execute_result",
          "data": {
            "text/plain": [
              "0.9893632993405477"
            ]
          },
          "metadata": {},
          "execution_count": 21
        }
      ]
    },
    {
      "cell_type": "code",
      "source": [
        "loss_tfidf = history_tfidf.history['loss']\n",
        "val_loss_tfidf = history_tfidf.history['val_loss']\n",
        "epochs = range(1, len(loss_tfidf) + 1)"
      ],
      "metadata": {
        "id": "LwxsebvbEVcl"
      },
      "execution_count": 22,
      "outputs": []
    },
    {
      "cell_type": "code",
      "source": [
        "plt.figure(figsize=(10, 5))\n",
        "plt.plot(epochs, loss_tfidf, 'bo-', label='Training loss')\n",
        "plt.plot(epochs, val_loss_tfidf, 'ro-', label='Validation loss')\n",
        "plt.title('Training and Validation Loss Over Epochs')\n",
        "plt.xlabel('Epochs')\n",
        "plt.ylabel('Loss')\n",
        "plt.legend()\n",
        "plt.show()"
      ],
      "metadata": {
        "colab": {
          "base_uri": "https://localhost:8080/",
          "height": 417
        },
        "id": "eAtHRMJ-EXz5",
        "outputId": "1300d951-f3a3-46a4-fc33-4289b03e6179"
      },
      "execution_count": 23,
      "outputs": [
        {
          "output_type": "display_data",
          "data": {
            "text/plain": [
              "<Figure size 1000x500 with 1 Axes>"
            ],
            "image/png": "[encoded data removed]"
          },
          "metadata": {}
        }
      ]
    },
    {
      "cell_type": "code",
      "source": [
        "x_cv_train, x_cv_val, y_cv_train, y_cv_val = train_test_split(x_cv_halved, y_cv_halved, test_size=0.2, random_state=42)\n",
        "x_cv_train = x_cv_train.toarray()\n",
        "x_cv_val = x_cv_val.toarray()\n",
        "y_cv_train = tf.keras.utils.to_categorical(y_cv_train, 2)\n",
        "y_cv_val = tf.keras.utils.to_categorical(y_cv_val, 2)"
      ],
      "metadata": {
        "id": "MriSMpU6RiRN"
      },
      "execution_count": 24,
      "outputs": []
    },
    {
      "cell_type": "code",
      "source": [
        "# Compile the model\n",
        "model_cv = create_model()\n",
        "model_cv.compile(optimizer='adam', loss='categorical_crossentropy', metrics=['accuracy'])\n",
        "model_cv.summary()"
      ],
      "metadata": {
        "id": "_eSuXo9_WBEF",
        "colab": {
          "base_uri": "https://localhost:8080/"
        },
        "outputId": "aedd59bd-51c5-4fa5-ab22-634b8e3b7661"
      },
      "execution_count": 25,
      "outputs": [
        {
          "output_type": "stream",
          "name": "stdout",
          "text": [
            "Model: \"sequential_1\"\n",
            "_________________________________________________________________\n",
            " Layer (type)                Output Shape              Param #   \n",
            "=================================================================\n",
            " dense_4 (Dense)             (None, 128)               128128    \n",
            "                                                                 \n",
            " dropout_3 (Dropout)         (None, 128)               0         \n",
            "                                                                 \n",
            " dense_5 (Dense)             (None, 64)                8256      \n",
            "                                                                 \n",
            " dropout_4 (Dropout)         (None, 64)                0         \n",
            "                                                                 \n",
            " dense_6 (Dense)             (None, 64)                4160      \n",
            "                                                                 \n",
            " dropout_5 (Dropout)         (None, 64)                0         \n",
            "                                                                 \n",
            " dense_7 (Dense)             (None, 2)                 130       \n",
            "                                                                 \n",
            "=================================================================\n",
            "Total params: 140674 (549.51 KB)\n",
            "Trainable params: 140674 (549.51 KB)\n",
            "Non-trainable params: 0 (0.00 Byte)\n",
            "_________________________________________________________________\n"
          ]
        }
      ]
    },
    {
      "cell_type": "code",
      "source": [
        "# Train the model\n",
        "history_cv = model_cv.fit(x_cv_train, y_cv_train, batch_size=128, epochs=20, validation_data=(x_cv_val, y_cv_val))"
      ],
      "metadata": {
        "colab": {
          "base_uri": "https://localhost:8080/"
        },
        "id": "7cyB9blURNmC",
        "outputId": "95b0d1f3-efa1-4ea6-8ce2-53a9722ae196"
      },
      "execution_count": 26,
      "outputs": [
        {
          "output_type": "stream",
          "name": "stdout",
          "text": [
            "Epoch 1/20\n",
            "781/781 [==============================] - 7s 7ms/step - loss: 0.1603 - accuracy: 0.9359 - val_loss: 0.0370 - val_accuracy: 0.9877\n",
            "Epoch 2/20\n",
            "781/781 [==============================] - 3s 4ms/step - loss: 0.0454 - accuracy: 0.9855 - val_loss: 0.0227 - val_accuracy: 0.9925\n",
            "Epoch 3/20\n",
            "781/781 [==============================] - 4s 5ms/step - loss: 0.0295 - accuracy: 0.9911 - val_loss: 0.0181 - val_accuracy: 0.9950\n",
            "Epoch 4/20\n",
            "781/781 [==============================] - 4s 5ms/step - loss: 0.0208 - accuracy: 0.9935 - val_loss: 0.0148 - val_accuracy: 0.9964\n",
            "Epoch 5/20\n",
            "781/781 [==============================] - 4s 6ms/step - loss: 0.0172 - accuracy: 0.9948 - val_loss: 0.0142 - val_accuracy: 0.9965\n",
            "Epoch 6/20\n",
            "781/781 [==============================] - 4s 5ms/step - loss: 0.0146 - accuracy: 0.9958 - val_loss: 0.0127 - val_accuracy: 0.9970\n",
            "Epoch 7/20\n",
            "781/781 [==============================] - 4s 5ms/step - loss: 0.0131 - accuracy: 0.9963 - val_loss: 0.0121 - val_accuracy: 0.9972\n",
            "Epoch 8/20\n",
            "781/781 [==============================] - 5s 6ms/step - loss: 0.0110 - accuracy: 0.9966 - val_loss: 0.0112 - val_accuracy: 0.9976\n",
            "Epoch 9/20\n",
            "781/781 [==============================] - 4s 4ms/step - loss: 0.0091 - accuracy: 0.9971 - val_loss: 0.0109 - val_accuracy: 0.9979\n",
            "Epoch 10/20\n",
            "781/781 [==============================] - 4s 5ms/step - loss: 0.0087 - accuracy: 0.9974 - val_loss: 0.0125 - val_accuracy: 0.9981\n",
            "Epoch 11/20\n",
            "781/781 [==============================] - 4s 5ms/step - loss: 0.0080 - accuracy: 0.9976 - val_loss: 0.0121 - val_accuracy: 0.9978\n",
            "Epoch 12/20\n",
            "781/781 [==============================] - 4s 5ms/step - loss: 0.0077 - accuracy: 0.9977 - val_loss: 0.0121 - val_accuracy: 0.9977\n",
            "Epoch 13/20\n",
            "781/781 [==============================] - 3s 4ms/step - loss: 0.0079 - accuracy: 0.9979 - val_loss: 0.0122 - val_accuracy: 0.9980\n",
            "Epoch 14/20\n",
            "781/781 [==============================] - 3s 4ms/step - loss: 0.0062 - accuracy: 0.9983 - val_loss: 0.0127 - val_accuracy: 0.9980\n",
            "Epoch 15/20\n",
            "781/781 [==============================] - 5s 6ms/step - loss: 0.0061 - accuracy: 0.9983 - val_loss: 0.0138 - val_accuracy: 0.9976\n",
            "Epoch 16/20\n",
            "781/781 [==============================] - 4s 5ms/step - loss: 0.0068 - accuracy: 0.9981 - val_loss: 0.0108 - val_accuracy: 0.9979\n",
            "Epoch 17/20\n",
            "781/781 [==============================] - 4s 5ms/step - loss: 0.0062 - accuracy: 0.9983 - val_loss: 0.0142 - val_accuracy: 0.9980\n",
            "Epoch 18/20\n",
            "781/781 [==============================] - 4s 5ms/step - loss: 0.0061 - accuracy: 0.9982 - val_loss: 0.0109 - val_accuracy: 0.9983\n",
            "Epoch 19/20\n",
            "781/781 [==============================] - 4s 5ms/step - loss: 0.0043 - accuracy: 0.9988 - val_loss: 0.0145 - val_accuracy: 0.9980\n",
            "Epoch 20/20\n",
            "781/781 [==============================] - 4s 5ms/step - loss: 0.0047 - accuracy: 0.9986 - val_loss: 0.0126 - val_accuracy: 0.9983\n"
          ]
        }
      ]
    },
    {
      "cell_type": "code",
      "source": [
        "X_test_cv = X_test_cv.toarray()\n",
        "y_test = tf.keras.utils.to_categorical(y_test, 2)"
      ],
      "metadata": {
        "id": "Aw_uPEgORtrQ"
      },
      "execution_count": 27,
      "outputs": []
    },
    {
      "cell_type": "code",
      "source": [
        "predictions_cv = model_cv.predict(X_test_cv)\n",
        "predicted_classes_cv = np.argmax(predictions_cv, axis=1)\n",
        "accuracy_cv = np.mean(actual_classes == predicted_classes_cv)\n",
        "accuracy_cv"
      ],
      "metadata": {
        "colab": {
          "base_uri": "https://localhost:8080/"
        },
        "id": "Hl9OVI1cR1k-",
        "outputId": "c36ce70d-08fa-48bb-ab60-0d35226f5500"
      },
      "execution_count": 28,
      "outputs": [
        {
          "output_type": "stream",
          "name": "stdout",
          "text": [
            "2706/2706 [==============================] - 6s 2ms/step\n"
          ]
        },
        {
          "output_type": "execute_result",
          "data": {
            "text/plain": [
              "0.990737639599478"
            ]
          },
          "metadata": {},
          "execution_count": 28
        }
      ]
    },
    {
      "cell_type": "code",
      "source": [
        "loss_cv = history_cv.history['loss']\n",
        "val_loss_cv = history_cv.history['val_loss']\n",
        "epochs = range(1, len(loss_tfidf) + 1)"
      ],
      "metadata": {
        "id": "yUBAlYW3TcqX"
      },
      "execution_count": 29,
      "outputs": []
    },
    {
      "cell_type": "code",
      "source": [
        "plt.figure(figsize=(10, 5))\n",
        "plt.plot(epochs, loss_cv, 'bo-', label='Training loss')\n",
        "plt.plot(epochs, val_loss_cv, 'ro-', label='Validation loss')\n",
        "plt.title('Training and Validation Loss Over Epochs')\n",
        "plt.xlabel('Epochs')\n",
        "plt.ylabel('Loss')\n",
        "plt.legend()\n",
        "plt.show()"
      ],
      "metadata": {
        "colab": {
          "base_uri": "https://localhost:8080/",
          "height": 417
        },
        "id": "DrjPj4oaDTtg",
        "outputId": "d7bd5707-1b94-4bf1-9549-3ca2642e225f"
      },
      "execution_count": 30,
      "outputs": [
        {
          "output_type": "display_data",
          "data": {
            "text/plain": [
              "<Figure size 1000x500 with 1 Axes>"
            ],
            "image/png": "[encoded data removed]"
          },
          "metadata": {}
        }
      ]
    },
    {
      "cell_type": "code",
      "source": [
        "filename_cv = 'NN_CV_50train_1000features.sav'\n",
        "# pickle.dump(model_, open(filename_cv, 'wb'))\n",
        "pickle.dump(model_cv, open(projectFolderPath + filename_cv, 'wb'))\n",
        "\n",
        "filename_tfidf = 'NN_TFIDF_50train_1000features.sav'\n",
        "# pickle.dump(model_, open(filename_tfidf, 'wb'))\n",
        "pickle.dump(model_tfidf, open(projectFolderPath + filename_tfidf, 'wb'))"
      ],
      "metadata": {
        "id": "991n35ZRSAX7"
      },
      "execution_count": 31,
      "outputs": []
    },
    {
      "cell_type": "code",
      "source": [
        "from sklearn.metrics import classification_report\n",
        "\n",
        "classNames = ['Human generated', 'AI-generated']\n",
        "\n",
        "print(\"Classification report with tfidf-vectorizer\")\n",
        "print(classification_report(actual_classes, predicted_classes_tfidf, target_names = classNames))\n",
        "\n",
        "print(\"Classification report with count-vectorizer\")\n",
        "print(classification_report(actual_classes, predicted_classes_cv, target_names = classNames))"
      ],
      "metadata": {
        "colab": {
          "base_uri": "https://localhost:8080/"
        },
        "id": "VIBoF3-yDUnZ",
        "outputId": "ccb4e3e3-93eb-458d-8645-624cc6a76149"
      },
      "execution_count": 32,
      "outputs": [
        {
          "output_type": "stream",
          "name": "stdout",
          "text": [
            "Classification report with tfidf-vectorizer\n",
            "                 precision    recall  f1-score   support\n",
            "\n",
            "Human generated       0.99      0.99      0.99     55845\n",
            "   AI-generated       0.98      0.99      0.99     30742\n",
            "\n",
            "       accuracy                           0.99     86587\n",
            "      macro avg       0.99      0.99      0.99     86587\n",
            "   weighted avg       0.99      0.99      0.99     86587\n",
            "\n",
            "Classification report with count-vectorizer\n",
            "                 precision    recall  f1-score   support\n",
            "\n",
            "Human generated       0.99      0.99      0.99     55845\n",
            "   AI-generated       0.98      0.99      0.99     30742\n",
            "\n",
            "       accuracy                           0.99     86587\n",
            "      macro avg       0.99      0.99      0.99     86587\n",
            "   weighted avg       0.99      0.99      0.99     86587\n",
            "\n"
          ]
        }
      ]
    },
    {
      "cell_type": "code",
      "source": [],
      "metadata": {
        "id": "btZxWEQwarLl"
      },
      "execution_count": null,
      "outputs": []
    }
  ]
}